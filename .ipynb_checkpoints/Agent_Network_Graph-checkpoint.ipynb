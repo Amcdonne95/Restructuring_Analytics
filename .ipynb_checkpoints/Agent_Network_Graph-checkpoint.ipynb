{
 "cells": [
  {
   "cell_type": "markdown",
   "metadata": {},
   "source": [
    "## Agent Network Graph\n",
    "1. Generates a network graph of nodes and edges utilizing Networkx\n",
    "2. Node and Edge Data comes from the cleaned DIP Data dump\n",
    "3. The network for this file is formatted in the Spring Layout\n",
    "4. The nodes and edges are fully built, having all of the appropriate attributes i.e DIP Loan Amount\n",
    "5. Plotly is then used to generate the graph\n",
    "* 3 \"Traces\" are generated: The edges trace, The agents trace and The cases trace"
   ]
  },
  {
   "cell_type": "code",
   "execution_count": 1,
   "metadata": {},
   "outputs": [
    {
     "data": {
      "text/html": [
       "<style>.container { width:100% !important; }</style>"
      ],
      "text/plain": [
       "<IPython.core.display.HTML object>"
      ]
     },
     "metadata": {},
     "output_type": "display_data"
    }
   ],
   "source": [
    "import plotly.plotly as py\n",
    "import plotly\n",
    "import plotly.graph_objs as go\n",
    "import networkx as nx\n",
    "import pandas as pd\n",
    "import numpy as np\n",
    "import xlwings\n",
    "import pyperclip\n",
    "import dash\n",
    "import dash_core_components as dcc\n",
    "import dash_html_components as html\n",
    "from dash.dependencies import Input, Output, Event, State\n",
    "import visdcc\n",
    "import colorlover as cl\n",
    "from IPython.display import HTML\n",
    "import visJS2jupyter.visJS_module\n",
    "\n",
    "pd.set_option('display.max_rows', 200)\n",
    "pd.set_option('display.max_columns', 200)\n",
    "pd.set_option('display.width', 1000)\n",
    "from IPython.core.display import display, HTML\n",
    "display(HTML(\"<style>.container { width:100% !important; }</style>\"))\n",
    "\n",
    "df = pd.read_csv('Agents_Loan_Amount.csv')\n",
    "df.columns = ['cases', 'case_number', 'loan_amount', 'admin_agent']"
   ]
  },
  {
   "cell_type": "code",
   "execution_count": 201,
   "metadata": {},
   "outputs": [
    {
     "data": {
      "text/plain": [
       "343"
      ]
     },
     "execution_count": 201,
     "metadata": {},
     "output_type": "execute_result"
    }
   ],
   "source": [
    "len(df.index)"
   ]
  },
  {
   "cell_type": "code",
   "execution_count": 2,
   "metadata": {},
   "outputs": [
    {
     "data": {
      "text/plain": [
       "342"
      ]
     },
     "execution_count": 2,
     "metadata": {},
     "output_type": "execute_result"
    }
   ],
   "source": [
    "df = df[~df.cases.isin(['In re Walter Investment Management Corp.'])]\n",
    "len(df.index)"
   ]
  },
  {
   "cell_type": "code",
   "execution_count": 3,
   "metadata": {},
   "outputs": [
    {
     "name": "stdout",
     "output_type": "stream",
     "text": [
      "No Loan Amount Count:  1\n",
      "Row Count Original:  342\n",
      "Row Count After NaN Drop:  341\n",
      "Total Case and Admin Observations:  682\n",
      "Total Case Admin Pairs:  341\n"
     ]
    }
   ],
   "source": [
    "'''\n",
    "Pulls the data in from the CSV file and organizes the data into formats that Netowrkx needs\n",
    "'''\n",
    "print('No Loan Amount Count: ', len(df[df.loan_amount.isin(['nan'])].index))\n",
    "\n",
    "print('Row Count Original: ', len(df.index))\n",
    "df = df.dropna().reset_index()\n",
    "print('Row Count After NaN Drop: ', len(df.index))\n",
    "\n",
    "cases = list(df['cases'])\n",
    "loan_amount = list(df['loan_amount'])\n",
    "admin_agent = list(df['admin_agent'])\n",
    "print('Total Case and Admin Observations: ', len(cases) + len(admin_agent))\n",
    "\n",
    "edge_list = []\n",
    "for i in range(0, len(df.index)):\n",
    "    edge_list.append((str(df.loc[i]['admin_agent']), str(df.loc[i]['cases']), int(df.loc[i]['loan_amount'])))\n",
    "print('Total Case Admin Pairs: ', len(edge_list))"
   ]
  },
  {
   "cell_type": "code",
   "execution_count": 4,
   "metadata": {},
   "outputs": [
    {
     "name": "stdout",
     "output_type": "stream",
     "text": [
      "Number of Nodes:  453\n",
      "Number of Edges:  311\n",
      "True\n",
      "First Node and Data:  ('In re Fairway Group Holdings Corp.', {'pos': array([0.38741037, 0.81560761])})\n",
      "First Edge and Data:  ('Credit Suisse', 'In re Fairway Group Holdings Corp.', {'weight': 30611941})\n",
      "First Node and Data:  ('In re Fairway Group Holdings Corp.', {'pos': array([0.38741037, 0.81560761])})\n"
     ]
    }
   ],
   "source": [
    "'''\n",
    "Actually develops the network graph using the edges and nodes given from the CSV Data\n",
    "'''\n",
    "\n",
    "G = nx.DiGraph()\n",
    "\n",
    "G.add_nodes_from(cases)\n",
    "G.add_nodes_from(admin_agent)\n",
    "\n",
    "G.add_weighted_edges_from(edge_list, weight='weight')\n",
    "#Sets the edge attributes: nx.get_edge_attributes(G, 'weight')\n",
    "\n",
    "print('Number of Nodes: ', G.number_of_nodes())\n",
    "print('Number of Edges: ', G.number_of_edges())\n",
    "\n",
    "pos = nx.spring_layout(G)\n",
    "#pos = nx.get_node_attributes(G,'pos')\n",
    "#position of each node in the layout of the graph\n",
    "print(isinstance(pos, dict))\n",
    "\n",
    "nx.set_node_attributes(G, pos, 'pos')\n",
    "\n",
    "print('First Node and Data: ', list(G.nodes.data())[0])\n",
    "print('First Edge and Data: ', list(G.edges.data())[0])\n",
    "#if the number of Case:Admin pairs differes from the # of edges, there are duplicates present\n",
    "# Number of nodes differs from Case + Admin count -> there are duplicate entries\n",
    "\n",
    "connections = {}\n",
    "for n, nbrsdict in G.adjacency():\n",
    "    #print(n, nbrsdict.keys())\n",
    "    #print(n, len(nbrsdict.keys()))\n",
    "    connections[n] = len(nbrsdict.keys())\n",
    "print('First Node and Data: ', list(G.nodes.data())[0])\n",
    "nx.set_node_attributes(G, connections, 'connections')"
   ]
  },
  {
   "cell_type": "code",
   "execution_count": 15,
   "metadata": {},
   "outputs": [],
   "source": [
    "text_list=[]\n",
    "x_pos = []\n",
    "y_pos = []\n",
    "for edge in G.edges.data():\n",
    "    #print(edge)\n",
    "    #agent = str('Agent: '+ edge[0])\n",
    "    #case = str('Case: ' + edge[1])\n",
    "    #print(edge[2]['weight'])\n",
    "    #loan_amt = str('Loan: '+ '${:,.2f}'.format(edge[2]['weight']))\n",
    "    \n",
    "    x0, y0 = G.node[edge[0]]['pos']\n",
    "    #print(G.node[edge[0]]['pos'])\n",
    "    x1, y1 = G.node[edge[1]]['pos']\n",
    "    #print(G.node[edge[1]]['pos'])\n",
    "    #text_list.append([agent, case, loan_amt])\n",
    "    \n",
    "    x_pos += (x0, x1, None)\n",
    "    y_pos += (y0, y1, None)\n",
    "\n",
    "edge_trace = go.Scatter(\n",
    "    name='Connections',\n",
    "    x=x_pos,\n",
    "    y=y_pos,\n",
    "    line=dict(width=0.3,color='#888'),\n",
    "    text=text_list,\n",
    "    mode='lines',\n",
    "    hoverinfo='text')\n",
    "#print(edge_trace['x'])\n",
    "#print(type(edge_trace['x']))\n",
    "\n",
    "# loops through edges, pulls out the case name and admin name; finds each names node position \n"
   ]
  },
  {
   "cell_type": "code",
   "execution_count": 16,
   "metadata": {},
   "outputs": [],
   "source": [
    "node_x = []\n",
    "node_y = []\n",
    "color_list = []\n",
    "text_list = []\n",
    "loan_amt = []\n",
    "\n",
    "for i in range(0, len(cases)):\n",
    "    #print(cases[i])\n",
    "    G.nodes.data()[cases[i]]\n",
    "    node_x.append(G.node[cases[i]]['pos'][0])\n",
    "    node_y.append(G.node[cases[i]]['pos'][1])\n",
    "    loan = loan_amount[i]\n",
    "    loan_amt.append(loan)\n",
    "    #text_list.append([G.node[node]['pos'][0], G.node[node]['pos'][1], node])\n",
    "    connect = G.nodes.data()[cases[i]]['connections']\n",
    "    color_list.append(connect)\n",
    "    text_list.append([str(cases[i]), 'Loan Amount: '+'${:,.2f}'.format(loan)])\n",
    "\n",
    "case_trace = go.Scatter(\n",
    "    name='Cases',\n",
    "    x=node_x,\n",
    "    y=node_y,\n",
    "    text=text_list,\n",
    "    mode='markers',\n",
    "    hoverinfo='text',\n",
    "    marker=dict(\n",
    "        showscale=True,\n",
    "        colorscale='YlGnBu',\n",
    "        reversescale=True,\n",
    "        color=loan_amt,\n",
    "        size=loan_amt,\n",
    "        sizeref=2.*max(loan_amt)/(50.**2),\n",
    "        sizemin=8,\n",
    "        sizemode='area',\n",
    "        colorbar=dict(\n",
    "            thickness=15,\n",
    "            title='Loan Amount',\n",
    "            xanchor='left',\n",
    "            titleside='right',\n",
    "            xpad=5\n",
    "        ),\n",
    "        line=dict(width=2, color='black')))"
   ]
  },
  {
   "cell_type": "code",
   "execution_count": 17,
   "metadata": {},
   "outputs": [],
   "source": [
    "node_x = []\n",
    "node_y = []\n",
    "color_list = []\n",
    "text_list = []\n",
    "size_list = []\n",
    "\n",
    "for agent in admin_agent:\n",
    "    #print(G.node[node]['pos'])\n",
    "    G.nodes.data()[agent]\n",
    "    node_x.append(G.node[agent]['pos'][0])\n",
    "    node_y.append(G.node[agent]['pos'][1])\n",
    "    #text_list.append([G.node[node]['pos'][0], G.node[node]['pos'][1], node])\n",
    "    connect = G.nodes.data()[agent]['connections']\n",
    "    color_list.append(connect)\n",
    "    size_list.append(connect)\n",
    "    text_list.append([str(agent), 'Connections: '+str(connect)])\n",
    "\n",
    "admin_trace = go.Scatter(\n",
    "    name='Agents',\n",
    "    x=node_x,\n",
    "    y=node_y,\n",
    "    text=text_list,\n",
    "    mode='markers',\n",
    "    hoverinfo='text',\n",
    "    marker=dict(\n",
    "        showscale=True,\n",
    "        colorscale='Blues',\n",
    "        reversescale=True,\n",
    "        color=color_list,\n",
    "        size=size_list,\n",
    "        sizeref=2.*max(size_list)/(50.**2),\n",
    "        sizemin=8,\n",
    "        symbol='circle-dot',\n",
    "        opacity=.5,\n",
    "        sizemode='area',\n",
    "        colorbar=dict(\n",
    "            thickness=15,\n",
    "            title='Connections',\n",
    "            xanchor='left',\n",
    "            titleside='right',\n",
    "            x=1.08\n",
    "        ),\n",
    "        line=dict(\n",
    "            width=1,\n",
    "            color = 'black'\n",
    "        )))"
   ]
  },
  {
   "cell_type": "code",
   "execution_count": 18,
   "metadata": {
    "scrolled": false
   },
   "outputs": [
    {
     "data": {
      "text/html": [
       "<iframe id=\"igraph\" scrolling=\"no\" style=\"border:none;\" seamless=\"seamless\" src=\"https://plot.ly/~amcdonne/29.embed\" height=\"525px\" width=\"100%\"></iframe>"
      ],
      "text/plain": [
       "<plotly.tools.PlotlyDisplay object>"
      ]
     },
     "execution_count": 18,
     "metadata": {},
     "output_type": "execute_result"
    }
   ],
   "source": [
    "'''\n",
    "Combines all of the traces above into one graph that is pictured below\n",
    "'''\n",
    "\n",
    "fig = go.Figure(data=[edge_trace, case_trace, admin_trace],\n",
    "             layout=go.Layout(\n",
    "                title='<br>Restructuring Network',\n",
    "                titlefont=dict(size=16),\n",
    "                showlegend=True,\n",
    "                legend=dict(x=.1, y=1.1),\n",
    "                hovermode='closest',\n",
    "                margin=dict(b=20,l=5,r=5,t=40),\n",
    "                annotations=[ dict(\n",
    "                    text='',\n",
    "                    showarrow=False,\n",
    "                    xref=\"paper\", yref=\"paper\",\n",
    "                    x=0.005, y=-0.002 ) ],\n",
    "                xaxis=dict(showgrid=False, zeroline=False, showticklabels=False),\n",
    "                yaxis=dict(showgrid=False, zeroline=False, showticklabels=False)))\n",
    "\n",
    "py.iplot(fig, filename='network')"
   ]
  }
 ],
 "metadata": {
  "kernelspec": {
   "display_name": "Python 3",
   "language": "python",
   "name": "python3"
  },
  "language_info": {
   "codemirror_mode": {
    "name": "ipython",
    "version": 3
   },
   "file_extension": ".py",
   "mimetype": "text/x-python",
   "name": "python",
   "nbconvert_exporter": "python",
   "pygments_lexer": "ipython3",
   "version": "3.6.5"
  }
 },
 "nbformat": 4,
 "nbformat_minor": 2
}
