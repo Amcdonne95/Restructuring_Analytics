{
 "cells": [
  {
   "cell_type": "code",
   "execution_count": 43,
   "metadata": {},
   "outputs": [
    {
     "data": {
      "text/html": [
       "<style>.container { width:100% !important; }</style>"
      ],
      "text/plain": [
       "<IPython.core.display.HTML object>"
      ]
     },
     "metadata": {},
     "output_type": "display_data"
    }
   ],
   "source": [
    "import plotly.plotly as py\n",
    "import plotly.graph_objs as go\n",
    "import networkx as nx\n",
    "import pandas as pd\n",
    "import numpy as np\n",
    "import xlwings\n",
    "import pyperclip\n",
    "from collections import Counter\n",
    "\n",
    "pd.set_option('display.max_rows', 200)\n",
    "pd.set_option('display.max_columns', 200)\n",
    "pd.set_option('display.width', 1000)\n",
    "from IPython.core.display import display, HTML\n",
    "display(HTML(\"<style>.container { width:100% !important; }</style>\"))\n",
    "df = pd.read_csv('DIPS_Data.csv')\n",
    "df.columns = df.columns.str.strip().str.lower().str.replace(' ', '_').str.replace('(', '').str.replace(')', '')\n",
    "df = df.dropna(how='all')"
   ]
  },
  {
   "cell_type": "code",
   "execution_count": 44,
   "metadata": {},
   "outputs": [],
   "source": [
    "starting_list = list(df['case_name'])\n",
    "clean_list = [x for x in starting_list if str(x) != 'nan']\n",
    "unique_list = ['Agents:', 'Fees:', 'Lender Groups:', 'Lenders:', 'Roll ups:']\n",
    "total_cases = len([x for x in clean_list if str(x) not in ['Agents:', 'Fees:', 'Lender Groups:', 'Lenders:', 'Roll ups:']])\n",
    "observation_count = Counter(clean_list)"
   ]
  },
  {
   "cell_type": "code",
   "execution_count": 66,
   "metadata": {},
   "outputs": [],
   "source": [
    "master_list = ['Agents:', 'Fees:', 'Lender Groups:', 'Lenders:', 'Roll ups:']\n",
    "case_index = []\n",
    "agent_no_lenders = []\n",
    "no_data = []\n",
    "for i in range(0, len(clean_list)):\n",
    "    if clean_list[i] not in master_list:\n",
    "        case_index.append(i)\n",
    "for i in range(1, len(case_index)):\n",
    "    case_line = clean_list[case_index[i-1]:case_index[i]]\n",
    "    if ('Agents:' in case_line) and (('Lenders:' not in case_line) and ('Lender Groups:' not in case_line)):\n",
    "        agent_no_lenders.append(case_line[0])\n",
    "    if ('Agents:' not in case_line) and ('Lenders:' not in case_line) and ('Lender Groups:' not in case_line):\n",
    "        no_data.append(case_line[0])\n",
    "        "
   ]
  },
  {
   "cell_type": "code",
   "execution_count": 63,
   "metadata": {},
   "outputs": [
    {
     "data": {
      "text/plain": [
       "['In re Mountain Divide, LLC (Mountainview Energy)',\n",
       " 'In re Pacific Exploration &amp; Production Corporation']"
      ]
     },
     "execution_count": 63,
     "metadata": {},
     "output_type": "execute_result"
    }
   ],
   "source": [
    "no_data"
   ]
  },
  {
   "cell_type": "code",
   "execution_count": 67,
   "metadata": {},
   "outputs": [
    {
     "data": {
      "text/plain": [
       "['In re Peabody Energy Corporation',\n",
       " 'In re TPP Acquisition, Inc. (The Picture People)',\n",
       " 'In re Toys \"R\" Us, Inc.',\n",
       " 'In re Sotera Wireless, Inc.',\n",
       " 'In re DACCO Transmission Parts (NY), Inc. (Transtar)',\n",
       " 'In re Armada Water Assets, Inc.',\n",
       " 'In re SH 130 Concession Company, LLC',\n",
       " 'In re Hancock Fabrics, Inc.',\n",
       " 'In re Castex Energy Partners, L.P.',\n",
       " 'In re Channel Technologies Group, LLC',\n",
       " 'In re Chellino Crane Inc.',\n",
       " 'In re Texas Pellets, Inc.',\n",
       " 'In re Texas Pellets, Inc.',\n",
       " 'In re Vitamin World, Inc.',\n",
       " 'In re Tusk Energy Services, LLC',\n",
       " 'In re Oconee Regional Health Systems, Inc.',\n",
       " 'In re Charming Charlie Holdings Inc.',\n",
       " 'In re Hancock Fabrics, Inc.',\n",
       " 'In re Abengoa Bioenergy US Holding, LLC',\n",
       " 'In re Fieldwood Energy LLC',\n",
       " 'In re Patriot National, Inc.',\n",
       " 'In re Essar Steel Algoma Inc.',\n",
       " 'In re Essar Steel Algoma Inc.',\n",
       " 'In re The Weinstein Company Holdings LLC',\n",
       " 'In re Lockwood Holdings, Inc.',\n",
       " 'In re Nine West Holdings, Inc.',\n",
       " 'In re Orion Healthcorp, Inc. (Constellation Healthcare Technologies)',\n",
       " 'In re Toys \"R\" Us, Inc.',\n",
       " 'In re iHeartMedia, Inc.']"
      ]
     },
     "execution_count": 67,
     "metadata": {},
     "output_type": "execute_result"
    }
   ],
   "source": [
    "agent_no_lenders"
   ]
  }
 ],
 "metadata": {
  "kernelspec": {
   "display_name": "Python 3",
   "language": "python",
   "name": "python3"
  },
  "language_info": {
   "codemirror_mode": {
    "name": "ipython",
    "version": 3
   },
   "file_extension": ".py",
   "mimetype": "text/x-python",
   "name": "python",
   "nbconvert_exporter": "python",
   "pygments_lexer": "ipython3",
   "version": "3.6.5"
  }
 },
 "nbformat": 4,
 "nbformat_minor": 2
}
