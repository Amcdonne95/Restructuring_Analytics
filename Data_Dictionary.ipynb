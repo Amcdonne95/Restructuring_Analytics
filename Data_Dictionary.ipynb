{
 "cells": [
  {
   "cell_type": "markdown",
   "metadata": {},
   "source": [
    "## DIP CSV Data Converter\n",
    "1. Pulls in the CSV data to clean and process\n",
    "2. Iterates through the CSV data and categorically places the data into a python dictionary\n",
    "3. Checks for missing data and mismatches in the original data and the dictionary data\n",
    "4. Dumps the dictionary data into a JSON file that is saved with a date stamp in the working directory\n",
    "5. (Optional) extracts selected data from the dictionary and writes a CSV file with the cleaned data"
   ]
  },
  {
   "cell_type": "code",
   "execution_count": 21,
   "metadata": {},
   "outputs": [
    {
     "data": {
      "text/html": [
       "<style>.container { width:100% !important; }</style>"
      ],
      "text/plain": [
       "<IPython.core.display.HTML object>"
      ]
     },
     "metadata": {},
     "output_type": "display_data"
    }
   ],
   "source": [
    "import plotly.plotly as py\n",
    "import plotly.graph_objs as go\n",
    "import networkx as nx\n",
    "import pandas as pd\n",
    "import numpy as np\n",
    "import xlwings\n",
    "import pyperclip\n",
    "from collections import Counter\n",
    "import pprint\n",
    "import json\n",
    "import datetime\n",
    "\n",
    "pd.set_option('display.max_rows', 200)\n",
    "pd.set_option('display.max_columns', 200)\n",
    "pd.set_option('display.width', 1000)\n",
    "from IPython.core.display import display, HTML\n",
    "display(HTML(\"<style>.container { width:100% !important; }</style>\"))\n",
    "df = pd.read_csv('Dump_DIPs_31_Jul_2018 (2).csv')\n",
    "df.columns = df.columns.str.strip().str.lower().str.replace(' ', '_').str.replace('(', '').str.replace(')', '')#changes all of the column names to python friendly\n",
    "df = df.dropna(how='all') #reads in the CSV File and drops columns and rows that have all NaN's"
   ]
  },
  {
   "cell_type": "code",
   "execution_count": 22,
   "metadata": {},
   "outputs": [],
   "source": [
    "'''\n",
    "Removes any blanks and marks what rows are agents, fees, roll-ups ect. in the dataframe\n",
    "Also adds a column that lists the case name for each row\n",
    "'''\n",
    "#assigns values to each row in the column and removes blank rows\n",
    "data = df.copy()\n",
    "data = data.fillna({'case_name':'none'})#fills all of the rows in column case name with none\n",
    "data['Case'] = 'xxxx'#creates an empty column filled with xxxx\n",
    "value = 'Fees:' #****This is hardcoded in as the first row of case_name\n",
    "case = 'xxxx'\n",
    "for row in data.itertuples():#iterates through all of the rows in the dataframe\n",
    "    #This whole section just labels all of the \"none\" rows with the appropriate line name: either agent, fee, lenders ect.\n",
    "    if row[1] not in ['none', 'Fees:', 'Agents:','Lender Groups:', 'Roll ups:', 'Lenders:']:\n",
    "        case = row[1]\n",
    "        data.at[row[0], 'Case'] = case\n",
    "        continue\n",
    "    if row[1] == 'Fees:':\n",
    "        value = 'Fees:'\n",
    "        continue\n",
    "    if row[1] == 'Agents:':\n",
    "        value = 'Agents:'\n",
    "        continue\n",
    "    if row[1] == 'Lender Groups:':\n",
    "        value = 'Lender Groups:'\n",
    "        continue\n",
    "    if row[1] == 'Roll ups:':\n",
    "        value = 'Roll ups:'\n",
    "        continue\n",
    "    if row[1] == 'Lenders:':\n",
    "        value = 'Lenders:'\n",
    "        continue\n",
    "    data.at[row[0], 'Case'] = case\n",
    "    data.at[row[0], 'case_name'] = value\n",
    "data = data[~data.Case.isin(['xxxx'])]\n",
    "data = data.reset_index(drop=True)\n",
    "#data = data.set_index('Case')\n"
   ]
  },
  {
   "cell_type": "code",
   "execution_count": 23,
   "metadata": {},
   "outputs": [
    {
     "data": {
      "text/plain": [
       "Roll    79\n",
       "Refi    65\n",
       "Name: case_status, dtype: int64"
      ]
     },
     "execution_count": 23,
     "metadata": {},
     "output_type": "execute_result"
    }
   ],
   "source": [
    "#Sample code section to perform quick data checks\n",
    "roll = data[data.case_name.isin(['Roll ups:'])]\n",
    "roll['case_status'].value_counts()"
   ]
  },
  {
   "cell_type": "code",
   "execution_count": 24,
   "metadata": {},
   "outputs": [
    {
     "data": {
      "text/plain": [
       "220"
      ]
     },
     "execution_count": 24,
     "metadata": {},
     "output_type": "execute_result"
    }
   ],
   "source": [
    "original_admin_list = list(data[data.petition_date.isin(['Admin Agent', 'Indenture Trustee', 'Lender'])]['Case'])\n",
    "len(original_admin_list)"
   ]
  },
  {
   "cell_type": "code",
   "execution_count": 33,
   "metadata": {},
   "outputs": [],
   "source": [
    "starting_list = list(data['case_name'])\n",
    "clean_list = [x for x in starting_list if str(x) != 'nan']\n",
    "unique_list = ['Agents:', 'Fees:', 'Lender Groups:', 'Lenders:', 'Roll ups:']\n",
    "all_cases = [x for x in clean_list if str(x) not in ['Agents:', 'Fees:', 'Lender Groups:', 'Lenders:', 'Roll ups:']]#gets list of all the cases\n",
    "total_cases = len(all_cases)#counts the total number of cases present in the dataframe\n",
    "#observation_count = Counter(clean_list) #dictionary of count of unique deals, Fees, Agents ect.\n",
    "\n",
    "#combs through the created list and returns the case names that have missing data i.e No Agents, No Lenders ect.\n",
    "master_list = ['Agents:', 'Fees:', 'Lender Groups:', 'Lenders:', 'Roll ups:']\n",
    "case_dict = {}\n",
    "case_index = []\n",
    "\n",
    "for i in range(0, len(clean_list)):\n",
    "    #Runs through the clean list of case_names which are the types of categories or a case name\n",
    "    if clean_list[i] not in master_list:\n",
    "        fee_num = 0\n",
    "        agent_num = 0\n",
    "        roll_num = 0\n",
    "        name = clean_list[i]\n",
    "        case_index.append(i)\n",
    "        dup_case = name in case_dict\n",
    "        if not dup_case:\n",
    "            case_dict[name] = {}#creates a dictionary entry for each case\n",
    "            case_dict[name]['Case_Count'] = 1\n",
    "            dip_num = name + ': ' + str(1)\n",
    "        if dup_case:#if there is already a case present in the dictionary it creates a separate section for a duplicate case\n",
    "            case_dict[name]['Case_Count'] = case_dict[name]['Case_Count'] + 1\n",
    "            dip_num = name + ': ' + str(case_dict[name]['Case_Count'])\n",
    "        case_dict[name][dip_num] = {}\n",
    "        #This section extracts all of the data for each case and puts it into the dictionary\n",
    "        case_dict[name][dip_num]['Data'] = {}\n",
    "        case_dict[name][dip_num]['Data']['Publishing_Name'] = data.loc[i]['publishing_name']\n",
    "        case_dict[name][dip_num]['Data']['Currency'] = data.loc[i]['currency']\n",
    "        case_dict[name][dip_num]['Data']['Loan_Amount'] = data.loc[i]['loan_amount']\n",
    "        case_dict[name][dip_num]['Data']['Maturity'] = data.loc[i]['maturity']\n",
    "        case_dict[name][dip_num]['Data']['Facility_Type'] = data.loc[i]['facility_type']\n",
    "        case_dict[name][dip_num]['Data']['Fixed_Float'] = data.loc[i]['fixed/floating']\n",
    "        case_dict[name][dip_num]['Data']['Floating_Type'] = data.loc[i]['floating_type']\n",
    "        case_dict[name][dip_num]['Data']['Investigation_Budget'] = data.loc[i]['investigation_budget']\n",
    "        case_dict[name][dip_num]['Data']['Carve_Out'] = data.loc[i]['carve_out']\n",
    "    if clean_list[i] == 'Fees:':\n",
    "        #locates all of the fees for each deal and numbers them accordingly since there are multiple entries\n",
    "        if fee_num == 0:\n",
    "            case_dict[name][dip_num]['Fees'] = {}\n",
    "        fee_num = fee_num + 1\n",
    "        fee_name = 'Fee_'+str(fee_num)\n",
    "        case_dict[name][dip_num]['Fees'][fee_name] = {}\n",
    "        case_dict[name][dip_num]['Fees'][fee_name]['Type'] = data.loc[i]['case_status']\n",
    "        case_dict[name][dip_num]['Fees'][fee_name]['Sub_Type'] = data.loc[i]['petition_date']\n",
    "        case_dict[name][dip_num]['Fees'][fee_name]['Amount'] = data.loc[i]['confirmation_date']\n",
    "        case_dict[name][dip_num]['Fees'][fee_name]['Amount_Type'] = data.loc[i]['dismissal_date']\n",
    "        case_dict[name][dip_num]['Fees'][fee_name]['Duration_Type'] = data.loc[i]['closing_date']\n",
    "    if clean_list[i] == 'Agents:':\n",
    "        #inputs all of the agents into the dictionary, and accounts for multiple agents by putting appending them to the list of agents\n",
    "        #Agents are either collateral or Admin\n",
    "        agent_type = str(data.loc[i]['petition_date'])\n",
    "        if str(data.loc[i]['petition_date']) in ['Lender', 'Indenture Trustee']:\n",
    "            agent_type = 'Admin Agent'# For data purposes any Agent name of Lender or Indenture Trustee is renamed as an Admin Agent\n",
    "        if 'Agents' not in case_dict[name][dip_num]:\n",
    "            case_dict[name][dip_num]['Agents'] = {}\n",
    "            case_dict[name][dip_num]['Agents'][agent_type] = []\n",
    "        if 'Agents' in case_dict[name][dip_num]:\n",
    "            if agent_type not in case_dict[name][dip_num]['Agents']:\n",
    "                case_dict[name][dip_num]['Agents'][agent_type] = []\n",
    "        case_dict[name][dip_num]['Agents'][agent_type].append(str(data.loc[i]['case_status']))\n",
    "    if clean_list[i] == 'Lenders:':\n",
    "        #does the same thing for Lenders as Agents, puts them into a list of lenders for each case\n",
    "        lender = str(data.loc[i]['case_status'])\n",
    "        if 'Lenders' not in case_dict[name][dip_num]:\n",
    "            case_dict[name][dip_num]['Lenders'] = []\n",
    "        case_dict[name][dip_num]['Lenders'].append(lender)\n",
    "    if clean_list[i] == 'Lender Groups:':\n",
    "        group = str(data.loc[i]['case_status'])\n",
    "        if 'Lender_Groups:' not in case_dict[name][dip_num]:\n",
    "            case_dict[name][dip_num]['Lender_Groups'] = [] \n",
    "        case_dict[name][dip_num]['Lender_Groups'].append(group)\n",
    "    if clean_list[i] == 'Roll ups:':\n",
    "        #Roll ups is similar to fees, this loads the roll_ups by number of roll up into the dictionary with the associated data\n",
    "        if roll_num == 0:\n",
    "            case_dict[name][dip_num]['Roll_Ups'] = {}\n",
    "        roll_num += 1\n",
    "        roll_name = 'Roll_Ups_'+str(roll_num)\n",
    "        case_dict[name][dip_num]['Roll_Ups'][roll_name] = {}\n",
    "        case_dict[name][dip_num]['Roll_Ups'][roll_name]['Amount'] = data.loc[i]['petition_date']\n",
    "        case_dict[name][dip_num]['Roll_Ups'][roll_name]['Loan_Type'] = data.loc[i]['dismissal_date']"
   ]
  },
  {
   "cell_type": "code",
   "execution_count": 34,
   "metadata": {},
   "outputs": [
    {
     "name": "stdout",
     "output_type": "stream",
     "text": [
      "Case Count:  348\n",
      "Dictionary Case Count:  348\n",
      "No Admin Agent Count:  2\n",
      "Dictionary Admin Agent Count:  215\n",
      "Multiple Admin Agents in Dictionary Count:  5\n",
      "Single Lender, No Agent Count:  113\n",
      "No Agent Listed Count:  131\n",
      "No Agent and Lender Count:  3\n"
     ]
    }
   ],
   "source": [
    "'''\n",
    "Runs through the dictionary to check for missing data and problems with the dictionary code\n",
    "The code speaks for itself here.\n",
    "'''\n",
    "dict_count = 0\n",
    "admin_count = 0\n",
    "no_admin_agent = []\n",
    "admin_name = []\n",
    "all_admin = []\n",
    "multiple_admin = []\n",
    "single_lender = []\n",
    "no_agent = []\n",
    "no_agent_and_lender = []\n",
    "for i in case_dict.keys():\n",
    "    dict_count += case_dict[i]['Case_Count']\n",
    "    for j in range(1, case_dict[i]['Case_Count']+1):\n",
    "        dip_number = str(i) + ': ' + str(j)\n",
    "        if 'Agents' not in case_dict[i][dip_number]:\n",
    "            no_agent.append(i)\n",
    "            if 'Lenders' in case_dict[i][dip_number]:\n",
    "                if len(case_dict[i][dip_number]['Lenders']) == 1:\n",
    "                    single_lender.append(i)\n",
    "            if 'Lenders' not in case_dict[i][dip_number]:\n",
    "                no_agent_and_lender.append(i)\n",
    "        if 'Agents' in case_dict[i][dip_number]:\n",
    "            if 'Admin Agent' in case_dict[i][dip_number]['Agents']:\n",
    "                if len(case_dict[i][dip_number]['Agents']['Admin Agent']) > 1:\n",
    "                    multiple_admin.append(i)\n",
    "                admin_name.append(case_dict[i][dip_number]['Agents']['Admin Agent'][0])\n",
    "                all_admin.append(i)\n",
    "                admin_count += 1\n",
    "            else:\n",
    "                no_admin_agent.append(dip_number)\n",
    "                continue\n",
    "\n",
    "print('Case Count: ', total_cases)\n",
    "print('Dictionary Case Count: ', dict_count)\n",
    "print('No Admin Agent Count: ', len(no_admin_agent))\n",
    "#print('Admin Agent Total: ', admin_agent_total)\n",
    "print('Dictionary Admin Agent Count: ', admin_count)\n",
    "print('Multiple Admin Agents in Dictionary Count: ', len(multiple_admin))\n",
    "print('Single Lender, No Agent Count: ', len(single_lender))\n",
    "print('No Agent Listed Count: ', len(no_agent))\n",
    "print('No Agent and Lender Count: ', len(no_agent_and_lender))"
   ]
  },
  {
   "cell_type": "code",
   "execution_count": 35,
   "metadata": {},
   "outputs": [],
   "source": [
    "#Returns a JSON File of the dictionary with a time stamp in the file name\n",
    "# This may need tweaking because some of the data in the dictionary may not be compatible with JavaScript\n",
    "now = datetime.datetime.now()\n",
    "now = now.strftime(\"%m.%d.%Y\")\n",
    "with open('dip_data_'+now+ '.json', 'w') as outfile:\n",
    "    json.dump(case_dict, outfile)"
   ]
  },
  {
   "cell_type": "code",
   "execution_count": 46,
   "metadata": {},
   "outputs": [
    {
     "name": "stdout",
     "output_type": "stream",
     "text": [
      "Number of Rows:  343\n"
     ]
    }
   ],
   "source": [
    "'''\n",
    "Runs through the dictionary to pull the selected data and then outputs this to a CSV File\n",
    "'''\n",
    "case_index = []\n",
    "dip_number_index = []\n",
    "data_pull = []\n",
    "#key_list = list(case_dict.keys()\n",
    "#iterates through the whole dictionary searching for data; uses the \"if key is in dictionary\" functions\n",
    "for i in list(case_dict.keys()):\n",
    "    for j in range(1, case_dict[i]['Case_Count']+1):\n",
    "        dip_number = str(i) + ': ' + str(j)\n",
    "        if 'Agents' in case_dict[i][dip_number]:\n",
    "            if 'Admin Agent' in case_dict[i][dip_number]['Agents']:\n",
    "                case_index.append(i)\n",
    "                dip_number_index.append(dip_number)\n",
    "                data_pull.append([case_dict[i][dip_number]['Data']['Loan_Amount'], case_dict[i][dip_number]['Agents']['Admin Agent'][0]])\n",
    "        if 'Agents' not in case_dict[i][dip_number]:\n",
    "            if 'Lenders' not in case_dict[i][dip_number]:\n",
    "                continue\n",
    "            if len(case_dict[i][dip_number]['Lenders']) == 1:\n",
    "                case_index.append(i)\n",
    "                dip_number_index.append(dip_number)\n",
    "                data_pull.append([case_dict[i][dip_number]['Data']['Loan_Amount'], case_dict[i][dip_number]['Lenders'][0]])\n",
    "print('Number of Rows: ', len(case_index))\n",
    "pd.DataFrame(data=data_pull, index = [case_index, dip_number_index], columns=['loan_amount', 'admin_agent']).to_csv('Agents_Loan_Amount.csv',encoding='utf-8')"
   ]
  }
 ],
 "metadata": {
  "kernelspec": {
   "display_name": "Python 3",
   "language": "python",
   "name": "python3"
  },
  "language_info": {
   "codemirror_mode": {
    "name": "ipython",
    "version": 3
   },
   "file_extension": ".py",
   "mimetype": "text/x-python",
   "name": "python",
   "nbconvert_exporter": "python",
   "pygments_lexer": "ipython3",
   "version": "3.6.5"
  }
 },
 "nbformat": 4,
 "nbformat_minor": 2
}
